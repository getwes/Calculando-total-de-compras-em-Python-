{
 "cells": [
  {
   "cell_type": "code",
   "execution_count": 1,
   "id": "71dd0bc7",
   "metadata": {},
   "outputs": [],
   "source": [
    "compras = [\n",
    "    {\"produto\": \"lata\", \"tipo\": \"embalagem\",\n",
    "    \"preco\": 0.5, \"quantidade\": 1500},\n",
    "    {\"produto\": \"açucar\", \"tipo\": \"embalagem\",\n",
    "    \"preco\": 0.03, \"quantidade\": 3000},\n",
    "    {\"produto\": \"stevia\", \"tipo\": \"embalagem\",\n",
    "    \"preco\": 0.07, \"quantidade\": 50},\n",
    "    {\"produto\": \"garrafa\", \"tipo\": \"embalagem\",\n",
    "    \"preco\": 0.25, \"quantidade\": 300},\n",
    "    {\"produto\": \"tampa\", \"tipo\": \"embalagem\",\n",
    "    \"preco\": 0.05, \"quantidade\": 300},\n",
    "    {\"produto\": \"corante\", \"tipo\": \"embalagem\",\n",
    "    \"preco\": 0.15, \"quantidade\": 2000},\n",
    "]\n",
    "\n"
   ]
  },
  {
   "cell_type": "code",
   "execution_count": null,
   "id": "43567790",
   "metadata": {},
   "outputs": [],
   "source": [
    "def calcular_total(compras):\n",
    "    return compra[\"preco\"] * compra[\"qauntidade\"]\n",
    "\n",
    "totais = map(calcular_total, compras)\n",
    "print(sum(totais))\n"
   ]
  }
 ],
 "metadata": {
  "kernelspec": {
   "display_name": "Python 3 (ipykernel)",
   "language": "python",
   "name": "python3"
  },
  "language_info": {
   "codemirror_mode": {
    "name": "ipython",
    "version": 3
   },
   "file_extension": ".py",
   "mimetype": "text/x-python",
   "name": "python",
   "nbconvert_exporter": "python",
   "pygments_lexer": "ipython3",
   "version": "3.9.13"
  }
 },
 "nbformat": 4,
 "nbformat_minor": 5
}
